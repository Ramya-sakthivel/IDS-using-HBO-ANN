{
 "cells": [
  {
   "cell_type": "code",
   "execution_count": null,
   "id": "a7993136-298d-4fe5-afe3-42b6fc5b5115",
   "metadata": {},
   "outputs": [],
   "source": [
    "import pandas as pd\n",
    "import numpy as np\n",
    "\n",
    "import warnings\n",
    "warnings.filterwarnings(\"ignore\")"
   ]
  },
  {
   "cell_type": "code",
   "execution_count": null,
   "id": "d2f69c6e-247f-4c19-9975-082371650982",
   "metadata": {},
   "outputs": [],
   "source": [
    "\n",
    "# Totally there are eight datasets. They can be found at: https://www.kaggle.com/datasets/cicdataset/cicids2017\n",
    "# Monday, Normal Activity, 11.0G\n",
    "# Tuesday, attacks + Normal Activity, 11G\n",
    "# Wednesday, attacks + Normal Activity, 13G\n",
    "# Thursday, attacks + Normal Activity, 7.8G\n",
    "# Friday, attacks + Normal Activity, 8.3G\n",
    "df1=pd.read_csv(\"Wednesday-workingHours.pcap_ISCX.csv\")\n",
    "df2=pd.read_csv(\"Tuesday-WorkingHours.pcap_ISCX.csv\")\n",
    "df3=pd.read_csv(\"Thursday-WorkingHours-Afternoon-Infilteration.pcap_ISCX.csv\")\n",
    "df4=pd.read_csv(\"Thursday-WorkingHours-Morning-WebAttacks.pcap_ISCX.csv\")\n",
    "df5=pd.read_csv(\"Monday-WorkingHours.pcap_ISCX.csv\")\n",
    "df6=pd.read_csv(\"Friday-WorkingHours-Afternoon-DDos.pcap_ISCX.csv\")\n",
    "df7=pd.read_csv(\"Friday-WorkingHours-Afternoon-PortScan.pcap_ISCX.csv\")\n",
    "df8=pd.read_csv(\"Friday-WorkingHours-Morning.pcap_ISCX.csv\")\n",
    "\n",
    "\n",
    "df = pd.concat([df1,df2, df3, df4, df5, df6, df7, df8])\n",
    "del df1\n",
    "del df2\n",
    "del df3\n",
    "del df4\n",
    "del df5\n",
    "del df6\n",
    "del df7\n",
    "del df8\n",
    "\n",
    "print(df.shape)"
   ]
  },
  {
   "cell_type": "code",
   "execution_count": null,
   "id": "0a4353c0-4f40-40e1-9be7-38a63b4a4ac5",
   "metadata": {},
   "outputs": [],
   "source": [
    "# Drop columns that are completely homogenous\n",
    "\n",
    "df_nums = df.select_dtypes(include=[np.number])\n",
    "print(\"The columns that are completely homogenous are\")\n",
    "for col in df_nums.columns:\n",
    "    if (df_nums[col].max()-df_nums[col].min() == 0):\n",
    "        print(col,)\n",
    "df.drop([col for col in df_nums.columns if df_nums[col].max()-df_nums[col].min() == 0], axis=1, inplace=True)\n",
    "print(df.shape)"
   ]
  },
  {
   "cell_type": "code",
   "execution_count": null,
   "id": "38d050b5-170d-4ad0-af32-d7d805496db3",
   "metadata": {},
   "outputs": [],
   "source": [
    "df.head(5)"
   ]
  },
  {
   "cell_type": "code",
   "execution_count": null,
   "id": "0ba97f19-af18-4363-a516-ea5ff962e318",
   "metadata": {},
   "outputs": [],
   "source": [
    "df1=df.copy()\n",
    "df1.shape"
   ]
  },
  {
   "cell_type": "code",
   "execution_count": null,
   "id": "61239cea-97c5-4254-9ffb-f48b6b9a804e",
   "metadata": {},
   "outputs": [],
   "source": [
    "df1.head()"
   ]
  },
  {
   "cell_type": "code",
   "execution_count": null,
   "id": "fc71830f-2d14-4cb4-9ce7-e4cd0cc8efd6",
   "metadata": {},
   "outputs": [],
   "source": [
    "# Drop NA rows\n",
    "\n",
    "df1.dropna(axis=0, inplace=True)\n",
    "print(df1.shape)"
   ]
  },
  {
   "cell_type": "code",
   "execution_count": null,
   "id": "d4dbff48-94a7-4971-b79c-359c9c3cdf04",
   "metadata": {},
   "outputs": [],
   "source": [
    "print(\"There are\", df.shape[0]-df1.shape[0],\"rows that contains null value and are dropped\")"
   ]
  },
  {
   "cell_type": "code",
   "execution_count": null,
   "id": "564bf5d4-72aa-4d74-9a3c-783ca8b17cf2",
   "metadata": {},
   "outputs": [],
   "source": [
    "# Normalization\n",
    "# Apply Min-Max Normalization\n",
    "\n",
    "df_nums = df1.select_dtypes(include=[np.number])\n",
    "df_nums = (df_nums-df_nums.min())/(df_nums.max()-df_nums.min())\n",
    "\n",
    "for col in df_nums.columns:\n",
    "    df1[col] = df_nums[col]\n",
    "\n",
    "df1.dropna(axis=0, inplace=True)\n",
    "for c in df1.columns:\n",
    "    print(c + \" :\", df1[c].isna().sum())"
   ]
  },
  {
   "cell_type": "code",
   "execution_count": null,
   "id": "115a5b80-d2b6-40fa-ba7a-300a386b4c6c",
   "metadata": {},
   "outputs": [],
   "source": [
    "df1.head()"
   ]
  },
  {
   "cell_type": "code",
   "execution_count": null,
   "id": "2ee8321a-1700-4255-aee9-fd99b1cac670",
   "metadata": {},
   "outputs": [],
   "source": [
    "# To avoid class imbalalance problem,drop the classes with less than 40 samples\n",
    "df1.drop(df1[df1[' Label'] == \"Web Attack � Sql Injection\"].index, inplace=True)\n",
    "df1.drop(df1[df1[' Label'] == \"Heartbleed\"].index, inplace=True)\n",
    "df1.drop(df1[df1[' Label'] == \"Infiltration\"].index, inplace=True)"
   ]
  },
  {
   "cell_type": "code",
   "execution_count": null,
   "id": "8fbcea2b-b477-4753-871c-068d5ad2fa77",
   "metadata": {},
   "outputs": [],
   "source": [
    "df1.shape"
   ]
  },
  {
   "cell_type": "code",
   "execution_count": null,
   "id": "4f714a4d-c204-49ec-8c89-ba959b471c67",
   "metadata": {},
   "outputs": [],
   "source": [
    "print(\"there are \",df_nums.shape[0]-df1.shape[0],\"samples that are deleted to tackle missing values and avoid class imbalance problem\")"
   ]
  },
  {
   "cell_type": "code",
   "execution_count": null,
   "id": "ac68dabe-755d-4aae-85c5-f75ccb1442ae",
   "metadata": {},
   "outputs": [],
   "source": [
    "# 1 denotes OOD, 0 denotes ID\n",
    "\n",
    "ood_cats = [\"Web Attack � Brute Force\", \"Web Attack � XSS\"]\n",
    "def mark_ood(row):\n",
    "    if row[' Label'] in ood_cats: row['ood'] = 1\n",
    "    else: row['ood'] = 0\n",
    "    return row\n",
    "\n",
    "\n",
    "\n",
    "df1 = df1.apply(mark_ood, axis=1)"
   ]
  },
  {
   "cell_type": "code",
   "execution_count": null,
   "id": "e176f4a7-8561-40f0-b8d3-cc5b57a22afc",
   "metadata": {},
   "outputs": [],
   "source": [
    "print(df1.shape)"
   ]
  },
  {
   "cell_type": "code",
   "execution_count": null,
   "id": "3cf41d16-0c02-4392-a960-7f85942cb957",
   "metadata": {},
   "outputs": [],
   "source": [
    "# The complete dataset after normalization\n",
    "df1.head(5)"
   ]
  }
 ],
 "metadata": {
  "kernelspec": {
   "display_name": "Python 3 (ipykernel)",
   "language": "python",
   "name": "python3"
  },
  "language_info": {
   "codemirror_mode": {
    "name": "ipython",
    "version": 3
   },
   "file_extension": ".py",
   "mimetype": "text/x-python",
   "name": "python",
   "nbconvert_exporter": "python",
   "pygments_lexer": "ipython3",
   "version": "3.10.9"
  }
 },
 "nbformat": 4,
 "nbformat_minor": 5
}
